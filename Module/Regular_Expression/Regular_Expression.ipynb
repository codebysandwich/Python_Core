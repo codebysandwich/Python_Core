{
 "cells": [
  {
   "cell_type": "markdown",
   "metadata": {},
   "source": [
    "# 正则表达式"
   ]
  },
  {
   "cell_type": "markdown",
   "metadata": {
    "toc": true
   },
   "source": [
    "<h1>Table of Contents<span class=\"tocSkip\"></span></h1>\n",
    "<div class=\"toc\"><ul class=\"toc-item\"><li><span><a href=\"#match\" data-toc-modified-id=\"match-1\">match</a></span><ul class=\"toc-item\"><li><span><a href=\"#从头开始\" data-toc-modified-id=\"从头开始-1.1\">从头开始</a></span></li><li><span><a href=\"#不使用$带来的问题:\" data-toc-modified-id=\"不使用$带来的问题:-1.2\">不使用$带来的问题:</a></span></li></ul></li><li><span><a href=\"#search\" data-toc-modified-id=\"search-2\">search</a></span><ul class=\"toc-item\"><li><span><a href=\"#返回第一个\" data-toc-modified-id=\"返回第一个-2.1\">返回第一个</a></span></li><li><span><a href=\"#group()??\" data-toc-modified-id=\"group()??-2.2\">group()??</a></span></li></ul></li><li><span><a href=\"#findall\" data-toc-modified-id=\"findall-3\">findall</a></span><ul class=\"toc-item\"><li><span><a href=\"#是否可以实现()提取效果？\" data-toc-modified-id=\"是否可以实现()提取效果？-3.1\">是否可以实现()提取效果？</a></span></li></ul></li><li><span><a href=\"#正则中的特殊字符\" data-toc-modified-id=\"正则中的特殊字符-4\">正则中的特殊字符</a></span></li><li><span><a href=\"#'\\'的特殊序列\" data-toc-modified-id=\"'\\'的特殊序列-5\">'\\'的特殊序列</a></span></li><li><span><a href=\"#正则标志\" data-toc-modified-id=\"正则标志-6\">正则标志</a></span></li><li><span><a href=\"#好用的正则函数函数\" data-toc-modified-id=\"好用的正则函数函数-7\">好用的正则函数函数</a></span><ul class=\"toc-item\"><li><span><a href=\"#re.split()\" data-toc-modified-id=\"re.split()-7.1\">re.split()</a></span></li><li><span><a href=\"#re.sub()\" data-toc-modified-id=\"re.sub()-7.2\">re.sub()</a></span></li></ul></li></ul></div>"
   ]
  },
  {
   "cell_type": "markdown",
   "metadata": {},
   "source": [
    "正则表达式是一个独立的命题，而非python独有。在python中可以使用内建的re模块来使用相关的功能实践。\n",
    "\n",
    "+ 正则表达式通常被用来检索、替换那些符合某个模式(规则)的文本。\n",
    "\n",
    "我们常用的有：\n",
    "+ match 一个文本是否满足给定的正则表达\n",
    "+ search 得到文本中的第一个满足正则的结果\n",
    "+ findall 获取文本中所有满足正则表达的结果\n",
    "\n",
    "使用之前我们需要先导入re模块："
   ]
  },
  {
   "cell_type": "code",
   "execution_count": 1,
   "metadata": {},
   "outputs": [],
   "source": [
    "import re"
   ]
  },
  {
   "cell_type": "markdown",
   "metadata": {},
   "source": [
    "## match"
   ]
  },
  {
   "cell_type": "markdown",
   "metadata": {},
   "source": [
    "`match()`函数总数从文本的*<font color='red'>开头开始</font>*，返回满足的结果或者None\n",
    "\n",
    "注意我们需要实现精准匹配时必须使用$，作为末尾标记。这一函数最经典的应用莫过于筛选满足格式的文件！"
   ]
  },
  {
   "cell_type": "markdown",
   "metadata": {},
   "source": [
    "### 从头开始"
   ]
  },
  {
   "cell_type": "markdown",
   "metadata": {},
   "source": [
    "如果我们的匹配正则表达不满足“从头开始”，是一定无法匹配成功的："
   ]
  },
  {
   "cell_type": "code",
   "execution_count": 2,
   "metadata": {},
   "outputs": [
    {
     "name": "stdout",
     "output_type": "stream",
     "text": [
      "Not Matched!\n"
     ]
    }
   ],
   "source": [
    "sentence = 'x123-346-9765' # 开头非字符\n",
    "number_regex = re.compile(r'\\d{3}-\\d{3}-\\d{4}')\n",
    "mo = number_regex.match(sentence)\n",
    "if mo: print(mo.group())\n",
    "else: print('Not Matched!')"
   ]
  },
  {
   "cell_type": "markdown",
   "metadata": {},
   "source": [
    "### 不使用$带来的问题:"
   ]
  },
  {
   "cell_type": "code",
   "execution_count": 15,
   "metadata": {},
   "outputs": [
    {
     "name": "stdout",
     "output_type": "stream",
     "text": [
      "536-836-7435\n"
     ]
    }
   ],
   "source": [
    "sentence = '536-836-7435'\n",
    "# \\d表示数字 {3}表示前面的表达出现3次\n",
    "number_regex = re.compile(r'\\d{3}-\\d{3}-\\d{4}') # compile将字符串正则化,代替方案可以直接用re.match\n",
    "mo = number_regex.match(sentence)\n",
    "if mo: print(mo.group())\n",
    "else: print('Not Matched!')"
   ]
  },
  {
   "cell_type": "markdown",
   "metadata": {},
   "source": [
    "乍一看没什么问题， 但是不要忘记没有标记$，意味着重头开始匹配，那么如果满足结果的后面有更多的文本那么就意味着失败！"
   ]
  },
  {
   "cell_type": "code",
   "execution_count": 16,
   "metadata": {},
   "outputs": [
    {
     "name": "stdout",
     "output_type": "stream",
     "text": [
      "test.csv\n",
      "test.csv\n"
     ]
    }
   ],
   "source": [
    "# .表示任意字符 + 表示前面的正则表达重复1次及1次以上\n",
    "csv_regex = re.compile(r'.+csv')\n",
    "mo = csv_regex.match('test.csv')\n",
    "if mo: print(mo.group())\n",
    "else: print('Not Matched!')\n",
    "mo = csv_regex.match('test.csv.xls') # 由于没有文本结尾标记我们发现不是我们要的结果\n",
    "if mo: print(mo.group())\n",
    "else: print('Not Matched!')"
   ]
  },
  {
   "cell_type": "code",
   "execution_count": 18,
   "metadata": {},
   "outputs": [
    {
     "name": "stdout",
     "output_type": "stream",
     "text": [
      "test.csv\n",
      "Not Matched!\n"
     ]
    }
   ],
   "source": [
    "# 将.转义，说明以.csv结尾的文本\n",
    "csv_regex = re.compile(r'.+\\.csv$') # 使用文本结尾标记\n",
    "mo = csv_regex.match('test.csv')\n",
    "if mo: print(mo.group())\n",
    "else: print('Not Matched!')\n",
    "mo = csv_regex.match('test.csv.xls')\n",
    "if mo: print(mo.group())\n",
    "else: print('Not Matched!')"
   ]
  },
  {
   "cell_type": "markdown",
   "metadata": {},
   "source": [
    "## search"
   ]
  },
  {
   "cell_type": "markdown",
   "metadata": {},
   "source": [
    "返回第一个满足匹配的结果，但是区别于match,并不严格要求从文本开头时就开始匹配"
   ]
  },
  {
   "cell_type": "code",
   "execution_count": 3,
   "metadata": {},
   "outputs": [
    {
     "name": "stdout",
     "output_type": "stream",
     "text": [
      "123-346-9765\n"
     ]
    }
   ],
   "source": [
    "sentence = 'x123-346-9765' # 开头非字符\n",
    "number_regex = re.compile(r'\\d{3}-\\d{3}-\\d{4}')\n",
    "mo = number_regex.search(sentence) # 搜索可以完成\n",
    "if mo: print(mo.group())\n",
    "else: print('Not Matched!')"
   ]
  },
  {
   "cell_type": "markdown",
   "metadata": {},
   "source": [
    "### 返回第一个"
   ]
  },
  {
   "cell_type": "code",
   "execution_count": 6,
   "metadata": {},
   "outputs": [
    {
     "name": "stdout",
     "output_type": "stream",
     "text": [
      "123-346-9765\n"
     ]
    }
   ],
   "source": [
    "sentence = 'x123-346-9765，357-768-3467'\n",
    "number_regex = re.compile(r'\\d{3}-\\d{3}-\\d{4}')\n",
    "mo = number_regex.search(sentence)\n",
    "if mo: print(mo.group())\n",
    "else: print('Not Matched!')"
   ]
  },
  {
   "cell_type": "markdown",
   "metadata": {},
   "source": [
    "### group()??"
   ]
  },
  {
   "cell_type": "markdown",
   "metadata": {},
   "source": [
    "在我学习之初我也不理解这个有什么用，现在开始理解将正则表达自己想提取的部分用()标记，可以实现分组："
   ]
  },
  {
   "cell_type": "code",
   "execution_count": 7,
   "metadata": {},
   "outputs": [
    {
     "name": "stdout",
     "output_type": "stream",
     "text": [
      "('123', '346', '9765')\n"
     ]
    }
   ],
   "source": [
    "sentence = 'x123-346-9765，357-768-3467'\n",
    "number_regex = re.compile(r'(\\d{3})-(\\d{3})-(\\d{4})')\n",
    "mo = number_regex.search(sentence)\n",
    "if mo: print(mo.groups())\n",
    "else: print('Not Matched!')\n",
    "# first, mid, last = mo.groups()"
   ]
  },
  {
   "cell_type": "markdown",
   "metadata": {},
   "source": [
    "## findall"
   ]
  },
  {
   "cell_type": "markdown",
   "metadata": {},
   "source": [
    "对于上面的例子如果我们要找出所有的匹配结果那么，我们可以使用findall来进行："
   ]
  },
  {
   "cell_type": "code",
   "execution_count": 10,
   "metadata": {},
   "outputs": [
    {
     "name": "stdout",
     "output_type": "stream",
     "text": [
      "123-346-9765\n",
      "357-768-3467\n"
     ]
    }
   ],
   "source": [
    "sentence = 'x123-346-9765，357-768-3467'\n",
    "number_regex = re.compile(r'\\d{3}-\\d{3}-\\d{4}')\n",
    "mo = number_regex.findall(sentence)\n",
    "for item in mo:\n",
    "    print(item)"
   ]
  },
  {
   "cell_type": "markdown",
   "metadata": {},
   "source": [
    "### 是否可以实现()提取效果？"
   ]
  },
  {
   "cell_type": "code",
   "execution_count": 11,
   "metadata": {},
   "outputs": [
    {
     "name": "stdout",
     "output_type": "stream",
     "text": [
      "first:123, mid:346, last:9765\n",
      "first:357, mid:768, last:3467\n"
     ]
    }
   ],
   "source": [
    "sentence = 'x123-346-9765，357-768-3467'\n",
    "number_regex = re.compile(r'(\\d{3})-(\\d{3})-(\\d{4})')\n",
    "mo = number_regex.findall(sentence)\n",
    "for first, mid, last in mo:\n",
    "    print(f'first:{first}, mid:{mid}, last:{last}')"
   ]
  },
  {
   "cell_type": "markdown",
   "metadata": {},
   "source": [
    "## 正则中的特殊字符"
   ]
  },
  {
   "cell_type": "markdown",
   "metadata": {},
   "source": [
    "| 字符 | 描述 |\n",
    "| --- | --- |\n",
    "| . |在默认模式下，它匹配除换行以外的任何字符。如果指定了DOTALL标志，它将匹配包括换行符在内的任何字符。|\n",
    "| ^ |匹配字符串的开头，并且在多行模式下也在每个换行之后立即匹配。|\n",
    "| $ |匹配字符串的末尾，或者刚好在字符串末尾的换行之前，在多行模式下也匹配换行之前。|\n",
    "|*|匹配前一个RE的0次或多次重复，重复次数越多越好。|\n",
    "|+|前面的RE匹配1次或更多次。|\n",
    "|？|前面的RE匹配0次或1次。|\n",
    "|{m}|指定要匹配前一个RE的重复m次。|\n",
    "|{m,n}|匹配前一个RE的m到n次重复，尝试匹配尽可能多的重复。|\n",
    "|+?, *?, ??|+, *, ?都是贪婪的（尽可能匹配多的字符），假设？后可以限定成为非贪婪模式。|\n",
    "|{m,n}?|前面的RE匹配m到n次，尝试匹配尽可能少的重复。|\n",
    "| \\\\ |转义特殊字符（允许您匹配字符，如“*”、“?”等）或发出特殊序列的信号。|\n",
    "|[]|指示一组字符，注意在里面使用^表示非逻辑，特殊字符']'需要转义或放在开始位置。|\n",
    "| | | A\\|B, 匹配A或者B,总是非贪婪的（A满足就不会去看B的结果），使用'\\|'字符同样需要转义。 |"
   ]
  },
  {
   "cell_type": "markdown",
   "metadata": {},
   "source": [
    "<font color='red'>由于转义和特殊字符强烈建议正则表达使用原生字符串！</font>"
   ]
  },
  {
   "cell_type": "markdown",
   "metadata": {},
   "source": [
    "##  '\\\\'的特殊序列"
   ]
  },
  {
   "cell_type": "markdown",
   "metadata": {},
   "source": [
    "|表达式|描述|\n",
    "|-|-|\n",
    "| \\d | 匹配任何Unicode十进制数字。这包括\\[0-9\\]，以及许多其他数字字符。如果只使用ASCII标志，则匹配\\[0-9\\]。 |\n",
    "| \\D | \\d相反， 匹配任何非十进制数字。|\n",
    "| \\s | 匹配Unicode下的空白字符包括空格，\\t、\\n、\\r、\\f、\\v。|\n",
    "| \\S | \\s相反，匹配除空格，\\t、\\n、\\r、\\f、\\v之外的任意字符。|\n",
    "| \\w | Unicode字符下，这包括大多数可以作为任何语言中单词一部分的字符，以及数字和下划线。如果使用ASCII标志，则仅匹配\\[a-zA-Z0-9\\]。|\n",
    "| \\W | \\w相反。|"
   ]
  },
  {
   "cell_type": "markdown",
   "metadata": {},
   "source": [
    "能够感觉到ASCII或者说编码带来的不便，具体程度还没有体会到！"
   ]
  },
  {
   "cell_type": "markdown",
   "metadata": {},
   "source": [
    "## 正则标志"
   ]
  },
  {
   "cell_type": "markdown",
   "metadata": {},
   "source": [
    "|标志|说明|\n",
    "|-|-|\n",
    "|re.I, re.IGNORECASE|执行不区分大小写的匹配。|\n",
    "|re.A, re.ASCII|Unicode编码下\\w，\\w，\\b，\\B，\\d，\\D，\\s和\\S只执行ASCII匹配。|\n",
    "|re.S, re.DOTALL|“.”特殊字符匹配任何字符，包括换行符。|"
   ]
  },
  {
   "cell_type": "markdown",
   "metadata": {},
   "source": [
    "## 好用的正则函数函数"
   ]
  },
  {
   "cell_type": "markdown",
   "metadata": {},
   "source": [
    "### re.split()"
   ]
  },
  {
   "cell_type": "markdown",
   "metadata": {},
   "source": [
    "使用正则切割字符串："
   ]
  },
  {
   "cell_type": "code",
   "execution_count": 66,
   "metadata": {},
   "outputs": [
    {
     "data": {
      "text/plain": [
       "['2019', '12', '13', '12', '34', '45']"
      ]
     },
     "execution_count": 66,
     "metadata": {},
     "output_type": "execute_result"
    }
   ],
   "source": [
    "DT = '2019-12-13 12:34:45'\n",
    "re.split('[- :]', DT) # 提取年月日等信息"
   ]
  },
  {
   "cell_type": "markdown",
   "metadata": {},
   "source": [
    "### re.sub()"
   ]
  },
  {
   "cell_type": "markdown",
   "metadata": {},
   "source": [
    "使用正则批量替换："
   ]
  },
  {
   "cell_type": "code",
   "execution_count": 71,
   "metadata": {},
   "outputs": [
    {
     "data": {
      "text/plain": [
       "'python'"
      ]
     },
     "execution_count": 71,
     "metadata": {},
     "output_type": "execute_result"
    }
   ],
   "source": [
    "s = 'py  th          on'\n",
    "re.sub(r'\\s+', r'', s) # 去除所有的空白字符"
   ]
  },
  {
   "cell_type": "code",
   "execution_count": 72,
   "metadata": {},
   "outputs": [
    {
     "data": {
      "text/plain": [
       "'价格是：(23.45)元， 重量：(33.34)KG'"
      ]
     },
     "execution_count": 72,
     "metadata": {},
     "output_type": "execute_result"
    }
   ],
   "source": [
    "s = \"价格是：23.45元， 重量：33.34KG\"\n",
    "re.sub(r'([\\d\\.]+)', r'(\\1)', s) # 将匹配到的结果添加在（）内，然后替换"
   ]
  }
 ],
 "metadata": {
  "kernelspec": {
   "display_name": "Python 3",
   "language": "python",
   "name": "python3"
  },
  "language_info": {
   "codemirror_mode": {
    "name": "ipython",
    "version": 3
   },
   "file_extension": ".py",
   "mimetype": "text/x-python",
   "name": "python",
   "nbconvert_exporter": "python",
   "pygments_lexer": "ipython3",
   "version": "3.7.0"
  },
  "toc": {
   "base_numbering": 1,
   "nav_menu": {},
   "number_sections": false,
   "sideBar": true,
   "skip_h1_title": true,
   "title_cell": "Table of Contents",
   "title_sidebar": "Contents",
   "toc_cell": true,
   "toc_position": {},
   "toc_section_display": true,
   "toc_window_display": true
  },
  "varInspector": {
   "cols": {
    "lenName": 16,
    "lenType": 16,
    "lenVar": 40
   },
   "kernels_config": {
    "python": {
     "delete_cmd_postfix": "",
     "delete_cmd_prefix": "del ",
     "library": "var_list.py",
     "varRefreshCmd": "print(var_dic_list())"
    },
    "r": {
     "delete_cmd_postfix": ") ",
     "delete_cmd_prefix": "rm(",
     "library": "var_list.r",
     "varRefreshCmd": "cat(var_dic_list()) "
    }
   },
   "types_to_exclude": [
    "module",
    "function",
    "builtin_function_or_method",
    "instance",
    "_Feature"
   ],
   "window_display": false
  }
 },
 "nbformat": 4,
 "nbformat_minor": 2
}
